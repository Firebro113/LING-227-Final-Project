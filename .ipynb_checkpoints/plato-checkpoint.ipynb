{
 "cells": [
  {
   "cell_type": "markdown",
   "id": "084bd19e-aacc-4556-b37a-6828354cb44c",
   "metadata": {},
   "source": [
    "# Models:\n",
    "\n",
    "1. Bayes Model with Word Embeddings\n",
    "2. Neural Network\n",
    "3. Recurrent Neural Network (Attention?)\n",
    "4. Transformer"
   ]
  },
  {
   "cell_type": "markdown",
   "id": "d76a88bf-7247-44f9-bcf1-fbbd5ba92363",
   "metadata": {},
   "source": [
    "# Neural Network"
   ]
  },
  {
   "cell_type": "code",
   "execution_count": 1,
   "id": "33b096e4-3020-435e-ad12-f8b2f493f527",
   "metadata": {},
   "outputs": [],
   "source": [
    "import numpy as np\n",
    "import pandas as pd"
   ]
  },
  {
   "cell_type": "code",
   "execution_count": null,
   "id": "c20fde42-7b30-4c1f-b658-b968ded582ba",
   "metadata": {},
   "outputs": [],
   "source": [
    "def load_data(filepath):\n",
    "    data = []\n",
    "\n",
    "    with open(filepath, \"r\") as file:\n",
    "        for line in file:\n",
    "            parts = line.strip().split(maxsplit=2)\n",
    "            data.append((int(parts[0]), parts[2]))\n",
    "\n",
    "    return data\n",
    "\n",
    "data = load_data(\"./data/data_25/main/test.txt\")"
   ]
  },
  {
   "cell_type": "code",
   "execution_count": null,
   "id": "2eb9f9ad-02ac-4110-8530-977dabfbd00a",
   "metadata": {},
   "outputs": [],
   "source": [
    "from gensim.models import Word2Vec\n",
    "\n",
    "def greek_W2V(dim, quotes, window, min_count, workers):\n",
    "    w2v_greek = Word2Vec(\n",
    "        sentences=quotes,\n",
    "        vector_size=dim,\n",
    "        window=window,\n",
    "        min_count=min_count,\n",
    "        workers=workers\n",
    "    )\n",
    "\n",
    "    w2v_greek.save(\"greek_word2vec.model\")\n",
    "\n",
    "    return w2v_greek\n",
    "\n",
    "embedding_dim = 300\n",
    "tokenized_quotes = [quote.split() for quote in quotes]\n",
    "\n",
    "w2v_greek = greek_W2V(embedding_dim, tokenized_quotes, 5, 2, 4)\n",
    "\n",
    "print(w2v_greek.wv['outos'])"
   ]
  }
 ],
 "metadata": {
  "kernelspec": {
   "display_name": "Python 3 (ipykernel)",
   "language": "python",
   "name": "python3"
  },
  "language_info": {
   "codemirror_mode": {
    "name": "ipython",
    "version": 3
   },
   "file_extension": ".py",
   "mimetype": "text/x-python",
   "name": "python",
   "nbconvert_exporter": "python",
   "pygments_lexer": "ipython3",
   "version": "3.8.10"
  }
 },
 "nbformat": 4,
 "nbformat_minor": 5
}
