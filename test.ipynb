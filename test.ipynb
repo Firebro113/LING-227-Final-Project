{
 "cells": [
  {
   "cell_type": "code",
   "execution_count": 6,
   "metadata": {},
   "outputs": [],
   "source": [
    "import os\n",
    "import gensim\n",
    "import string\n",
    "from gensim.utils import simple_preprocess\n",
    "from gensim.models import Word2Vec"
   ]
  },
  {
   "cell_type": "code",
   "execution_count": 8,
   "metadata": {},
   "outputs": [
    {
     "name": "stdout",
     "output_type": "stream",
     "text": [
      "[['artificial', 'intelligence', 'is', 'the', 'new', 'electricity'], ['machine', 'learning', 'is', 'subfield', 'of', 'artificial', 'intelligence'], ['deep', 'learning', 'subset', 'of', 'machine', 'learning', 'is', 'driving', 'ai', 'advancement'], ['neural', 'networks', 'are', 'the', 'backbone', 'of', 'deep', 'learning', 'models'], ['the', 'future', 'of', 'ai', 'is', 'bright', 'and', 'full', 'of', 'potential'], ['natural', 'language', 'processing', 'enables', 'computers', 'to', 'understand', 'human', 'language'], ['big', 'data', 'analytics', 'uses', 'large', 'datasets', 'to', 'uncover', 'hidden', 'patterns'], ['reinforcement', 'learning', 'is', 'important', 'for', 'developing', 'intelligent', 'agents'], ['computer', 'vision', 'gives', 'machines', 'the', 'ability', 'to', 'see', 'and', 'interpret', 'images'], ['robotics', 'is', 'field', 'that', 'intersects', 'with', 'ai', 'to', 'create', 'autonomous', 'systems']]\n"
     ]
    }
   ],
   "source": [
    "# Preprocessing function to clean and tokenize text\n",
    "def preprocess(text):\n",
    "    # Remove punctuation\n",
    "    text = text.translate(str.maketrans('', '', string.punctuation))\n",
    "    # Tokenize and remove stopwords\n",
    "    result = [word for word in simple_preprocess(text) if True]\n",
    "    return result\n",
    "\n",
    "# Sample corpus and labels (for binary classification: 0 or 1)\n",
    "corpus = [\n",
    "    \"Artificial intelligence is the new electricity.\",\n",
    "    \"Machine learning is a subfield of artificial intelligence.\",\n",
    "    \"Deep learning, a subset of machine learning, is driving AI advancement.\",\n",
    "    \"Neural networks are the backbone of deep learning models.\",\n",
    "    \"The future of AI is bright and full of potential.\",\n",
    "    \"Natural language processing enables computers to understand human language.\",\n",
    "    \"Big data analytics uses large datasets to uncover hidden patterns.\",\n",
    "    \"Reinforcement learning is important for developing intelligent agents.\",\n",
    "    \"Computer vision gives machines the ability to see and interpret images.\",\n",
    "    \"Robotics is a field that intersects with AI to create autonomous systems.\"\n",
    "]\n",
    "labels = [1, 1, 1, 1, 1, 1, 0, 0, 0, 0]  # Example labels\n",
    "\n",
    "# Preprocess the corpus to obtain tokenized sentences\n",
    "tokenized_corpus = [preprocess(doc) for doc in corpus]\n",
    "\n",
    "print(tokenized_corpus)"
   ]
  }
 ],
 "metadata": {
  "kernelspec": {
   "display_name": "base",
   "language": "python",
   "name": "python3"
  },
  "language_info": {
   "codemirror_mode": {
    "name": "ipython",
    "version": 3
   },
   "file_extension": ".py",
   "mimetype": "text/x-python",
   "name": "python",
   "nbconvert_exporter": "python",
   "pygments_lexer": "ipython3",
   "version": "3.11.7"
  }
 },
 "nbformat": 4,
 "nbformat_minor": 2
}
