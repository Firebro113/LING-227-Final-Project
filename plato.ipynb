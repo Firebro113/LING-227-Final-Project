{
 "cells": [
  {
   "cell_type": "markdown",
   "id": "603e5f13-dd93-46c3-849b-e553540e3e91",
   "metadata": {},
   "source": [
    "# hi ryo"
   ]
  }
 ],
 "metadata": {
  "kernelspec": {
   "display_name": "Python 3 (ipykernel)",
   "language": "python",
   "name": "python3"
  },
  "language_info": {
   "codemirror_mode": {
    "name": "ipython",
    "version": 3
   },
   "file_extension": ".py",
   "mimetype": "text/x-python",
   "name": "python",
   "nbconvert_exporter": "python",
   "pygments_lexer": "ipython3",
   "version": "3.11.10"
  }
 },
 "nbformat": 4,
 "nbformat_minor": 5
}
