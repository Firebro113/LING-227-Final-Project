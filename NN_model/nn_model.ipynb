{
 "cells": [
  {
   "cell_type": "markdown",
   "id": "9e8e6446-68b3-4967-b6e4-352b9c5bf5f8",
   "metadata": {},
   "source": [
    "# Neural Network"
   ]
  },
  {
   "cell_type": "markdown",
   "id": "f242caa2-9740-4d3a-a41e-78b057c7f015",
   "metadata": {},
   "source": [
    "## Data Extraction + W2V"
   ]
  },
  {
   "cell_type": "code",
   "execution_count": 1,
   "id": "d08a1e84-4b6c-49ec-afc8-c6b1f688a281",
   "metadata": {},
   "outputs": [],
   "source": [
    "import numpy as np\n",
    "import pandas as pd\n",
    "import tensorflow as tf"
   ]
  },
  {
   "cell_type": "code",
   "execution_count": 2,
   "id": "316ab9f7-5e3a-4167-b300-a330c538b41b",
   "metadata": {},
   "outputs": [],
   "source": [
    "def load_data(filepath):\n",
    "    data = []\n",
    "\n",
    "    with open(filepath, \"r\") as file:\n",
    "        for line in file:\n",
    "            parts = line.strip().split(maxsplit=1)\n",
    "            data.append((int(parts[0]), parts[1]))\n",
    "\n",
    "    return data"
   ]
  },
  {
   "cell_type": "code",
   "execution_count": 3,
   "id": "10bab59b-7efb-45d5-b239-74f51e0b512b",
   "metadata": {},
   "outputs": [],
   "source": [
    "from gensim.models import Word2Vec\n",
    "\n",
    "def greek_W2V(dim, quotes, window, min_count, workers):\n",
    "    '''\n",
    "    Create Word2Vec\n",
    "    '''\n",
    "    w2v_greek = Word2Vec(\n",
    "        sentences=quotes,\n",
    "        vector_size=dim,\n",
    "        window=window,\n",
    "        min_count=min_count,\n",
    "        workers=workers\n",
    "    )\n",
    "\n",
    "    w2v_greek.save(\"greek_word2vec.model\")\n",
    "    return w2v_greek"
   ]
  },
  {
   "cell_type": "markdown",
   "id": "ec22fab7-160e-4b50-9412-cef16cdc883d",
   "metadata": {},
   "source": [
    "## Dubia and Testset Generation"
   ]
  },
  {
   "cell_type": "code",
   "execution_count": 4,
   "id": "b16e89a7-9e3e-475b-9723-b57a11187548",
   "metadata": {},
   "outputs": [],
   "source": [
    "def dubia_testset(data, chunk_size, w2v_model):\n",
    "    \"\"\"\n",
    "    Create Dubia Dataset Test Set\n",
    "    \"\"\"\n",
    "    chunks = []\n",
    "    embeddings = []\n",
    "\n",
    "    for label, text in data:\n",
    "        if label != -1:\n",
    "            continue\n",
    "\n",
    "        # Split text into words and calculate number of chunks\n",
    "        words = text.split()\n",
    "        num_chunks = len(words) - chunk_size + 1\n",
    "        if num_chunks <= 0:\n",
    "            continue\n",
    "\n",
    "        # Generate sliding window chunks\n",
    "        text_chunks = [\n",
    "            \" \".join(words[i:i + chunk_size])\n",
    "            for i in range(1, num_chunks)\n",
    "        ]\n",
    "\n",
    "        # Generate embeddings for each chunk\n",
    "        chunk_embeddings = [flatten_chunk(chunk, w2v_model) for chunk in text_chunks]\n",
    "        \n",
    "        # Append results\n",
    "        chunks.extend(text_chunks)\n",
    "        embeddings.extend(chunk_embeddings)\n",
    "\n",
    "    return chunks, np.array(embeddings)"
   ]
  },
  {
   "cell_type": "code",
   "execution_count": 5,
   "id": "79e9eea9-29ff-49a7-bace-781af41573a4",
   "metadata": {},
   "outputs": [],
   "source": [
    "def single_text_testset(data, chunk_size, w2v_model, text_name):\n",
    "    \"\"\"\n",
    "    Prepares a test set for a single text in the dubia dataset by text name.\n",
    "    \"\"\"\n",
    "    chunks = []\n",
    "    embeddings = []\n",
    "\n",
    "    for label, text in data:\n",
    "        if label != -1:\n",
    "            continue\n",
    "\n",
    "        words = text.split()\n",
    "        if words[0] == text_name:\n",
    "            \n",
    "            # Remove the text name and first word (number) from the text body\n",
    "            text_body = \" \".join(words[1:])\n",
    "    \n",
    "            # Generate sliding window chunks\n",
    "            num_chunks = len(text_body.split()) - chunk_size + 1\n",
    "            if num_chunks <= 0:\n",
    "                continue\n",
    "    \n",
    "            text_chunks = [\n",
    "                \" \".join(text_body.split()[i:i + chunk_size])\n",
    "                for i in range(num_chunks)\n",
    "            ]\n",
    "    \n",
    "            # Generate embeddings for each chunk\n",
    "            chunk_embeddings = [flatten_chunk(chunk, w2v_model) for chunk in text_chunks]\n",
    "    \n",
    "            # Append results\n",
    "            chunks.extend(text_chunks)\n",
    "            embeddings.extend(chunk_embeddings)\n",
    "    \n",
    "            embeddings = np.array(embeddings)\n",
    "            return chunks, embeddings\n",
    "\n",
    "    return chunks, np.array(embeddings)  # Fallback in case no matching text is found"
   ]
  },
  {
   "cell_type": "code",
   "execution_count": 6,
   "id": "a874d796-723a-4aaa-ada3-0f07145a0eab",
   "metadata": {},
   "outputs": [],
   "source": [
    "def all_texts_testset(data, chunk_size, w2v_model):\n",
    "    \"\"\"\n",
    "    Prepares a test set for all dubia texts, calculates predictions, and outputs mean scores.\n",
    "    \"\"\"\n",
    "    results = {}\n",
    "\n",
    "    for label, text in data:\n",
    "        words = text.split()\n",
    "        text_name = words[0]\n",
    "        text_body = \" \".join(words[1:])\n",
    "\n",
    "        # Generate sliding window chunks\n",
    "        num_chunks = len(text_body.split()) - chunk_size + 1\n",
    "        if num_chunks <= 0:\n",
    "            continue  # Skip if the text is shorter than the chunk size\n",
    "\n",
    "        text_chunks = [\n",
    "            \" \".join(text_body.split()[i:i + chunk_size])\n",
    "            for i in range(num_chunks)\n",
    "        ]\n",
    "\n",
    "        # Generate embeddings for each chunk\n",
    "        chunk_embeddings = [flatten_chunk(chunk, w2v_model) for chunk in text_chunks]\n",
    "\n",
    "        # Convert embeddings to NumPy array\n",
    "        X_test = np.array(chunk_embeddings)\n",
    "\n",
    "        # Get predictions for the embeddings\n",
    "        predictions = model.predict(X_test)\n",
    "\n",
    "        # Calculate the mean prediction\n",
    "        mean_score = np.mean(predictions)\n",
    "        results[text_name] = mean_score\n",
    "\n",
    "    return results"
   ]
  },
  {
   "cell_type": "markdown",
   "id": "ac28ef28-d3bb-4f77-8c44-64cabd3b2ffd",
   "metadata": {},
   "source": [
    "## Basic NN with mean pooling of word embeddings"
   ]
  },
  {
   "cell_type": "code",
   "execution_count": 7,
   "id": "70a7079c-630c-4a40-8638-a60dfd561803",
   "metadata": {},
   "outputs": [],
   "source": [
    "def flatten_chunk(chunk, w2v_model):\n",
    "    \"\"\"\n",
    "    Converts a chunk of text into a fixed-size vector using mean pooling.\n",
    "    \"\"\"\n",
    "    words = chunk.split()\n",
    "    embedding_dim = w2v_model.vector_size\n",
    "    \n",
    "    embeddings = [w2v_model.wv[word] for word in words if word in w2v_model.wv]\n",
    "    \n",
    "    if embeddings:\n",
    "        flattened_embedding = np.mean(embeddings, axis=0)\n",
    "    else:\n",
    "        flattened_embedding = np.zeros(embedding_dim)\n",
    "    \n",
    "    return flattened_embedding"
   ]
  },
  {
   "cell_type": "code",
   "execution_count": 8,
   "id": "1bd6e6e8-d966-42ab-a5ea-c2649c640061",
   "metadata": {},
   "outputs": [],
   "source": [
    "from sklearn.model_selection import train_test_split\n",
    "\n",
    "def prepare_dataset(data, w2v_model, chunk_size, train_ratio=0.7, val_ratio=0.15, test_ratio=0.15):\n",
    "    \"\"\"\n",
    "    Processes text data into sliding window chunks with embeddings,\n",
    "    splits the data into training, validation, and test sets, and randomizes it.\n",
    "    \"\"\"\n",
    "    X_train, y_train = [], []\n",
    "    X_val, y_val = [], []\n",
    "    X_test, y_test = [], []\n",
    "\n",
    "    for label, text in data:\n",
    "        words = text.split()\n",
    "        num_chunks = len(words) - chunk_size + 1\n",
    "        if num_chunks <= 0:\n",
    "            continue\n",
    "\n",
    "        # Generate sliding window chunks\n",
    "        chunks = [\n",
    "            \" \".join(words[i:i + chunk_size])\n",
    "            for i in range(1, num_chunks)\n",
    "        ]\n",
    "\n",
    "        # Generate embeddings for each chunk\n",
    "        embeddings = [flatten_chunk(chunk, w2v_model) for chunk in chunks]\n",
    "        labels = [label] * len(embeddings)\n",
    "\n",
    "        # Split into train/val/test sets\n",
    "        X_temp, X_test_temp, y_temp, y_test_temp = train_test_split(\n",
    "            embeddings, labels, test_size=test_ratio, random_state=42\n",
    "        )\n",
    "        X_train_temp, X_val_temp, y_train_temp, y_val_temp = train_test_split(\n",
    "            X_temp, y_temp, test_size=val_ratio / (train_ratio + val_ratio), random_state=42\n",
    "        )\n",
    "\n",
    "        # Append to the main dataset\n",
    "        X_train.extend(X_train_temp)\n",
    "        y_train.extend(y_train_temp)\n",
    "        X_val.extend(X_val_temp)\n",
    "        y_val.extend(y_val_temp)\n",
    "        X_test.extend(X_test_temp)\n",
    "        y_test.extend(y_test_temp)\n",
    "\n",
    "    # Shuffle each dataset\n",
    "    train_data = list(zip(X_train, y_train))\n",
    "    val_data = list(zip(X_val, y_val))\n",
    "    test_data = list(zip(X_test, y_test))\n",
    "\n",
    "    np.random.shuffle(train_data)\n",
    "    np.random.shuffle(val_data)\n",
    "    np.random.shuffle(test_data)\n",
    "\n",
    "    # Unpack shuffled data\n",
    "    X_train, y_train = zip(*train_data)\n",
    "    X_val, y_val = zip(*val_data)\n",
    "    X_test, y_test = zip(*test_data)\n",
    "\n",
    "    return (\n",
    "        np.array(X_train), np.array(y_train),\n",
    "        np.array(X_val), np.array(y_val),\n",
    "        np.array(X_test), np.array(y_test)\n",
    "    )"
   ]
  },
  {
   "cell_type": "code",
   "execution_count": 9,
   "id": "0c02bd67-79cb-43eb-9cd0-a93bbf6a811b",
   "metadata": {},
   "outputs": [],
   "source": [
    "from tensorflow.keras.models import Sequential\n",
    "from tensorflow.keras.layers import Dense, Dropout, BatchNormalization\n",
    "from tensorflow.keras.optimizers import Adam\n",
    "\n",
    "def create_nn(input_dim):\n",
    "    \"\"\"\n",
    "    Creates a simple feedforward neural network with input dimension specified.\n",
    "    \"\"\"\n",
    "    model = Sequential([\n",
    "        Dense(256, activation='relu', input_shape=(input_dim,)),\n",
    "        BatchNormalization(),\n",
    "        Dropout(0.3),\n",
    "        Dense(128, activation='relu'),\n",
    "        BatchNormalization(),\n",
    "        Dropout(0.3),\n",
    "        Dense(1, activation='sigmoid')\n",
    "    ])\n",
    "    model.compile(optimizer=tf.keras.optimizers.Adam(learning_rate=0.001),\n",
    "                  loss='binary_crossentropy',\n",
    "                  metrics=['accuracy'])\n",
    "    return model"
   ]
  },
  {
   "cell_type": "markdown",
   "id": "a865ef2e-57f4-4ceb-bff8-b77fa39cb00b",
   "metadata": {},
   "source": [
    "## Bsic NN Model Implementation"
   ]
  },
  {
   "cell_type": "code",
   "execution_count": 108,
   "id": "5a66ab17-753c-48c1-8ac1-8dd3849fc804",
   "metadata": {},
   "outputs": [],
   "source": [
    "chunk_size = 200"
   ]
  },
  {
   "cell_type": "code",
   "execution_count": 92,
   "id": "f894cc66-ad22-4ae8-b767-bd60568af3dd",
   "metadata": {},
   "outputs": [],
   "source": [
    "tabs = {}"
   ]
  },
  {
   "cell_type": "code",
   "execution_count": 12,
   "id": "edfe23d7-c06d-487c-afd7-861e479f610c",
   "metadata": {},
   "outputs": [],
   "source": [
    "data_combined = load_data(\"./data_clean/combined.txt\")\n",
    "data_dubia = load_data(\"./data_clean/dubia.txt\")\n",
    "\n",
    "chunk_size = 25\n",
    "dim = 100\n",
    "# chunks = []\n",
    "# for label, text in data_combined:\n",
    "#     words = text.split()\n",
    "#     for i in range(0, len(words) - chunk_size + 1):\n",
    "#         chunk = ' '.join(words[i:i + chunk_size])\n",
    "#         chunks.append((label, chunk))\n",
    "\n",
    "# chunks_combined = [chunk.split() for _, chunk in chunks]\n",
    "# dim = 100\n",
    "# window = 5\n",
    "# min_count = 1\n",
    "# workers = 4\n",
    "# w2v_model = greek_W2V(dim, chunks_combined, window, min_count, workers)\n",
    "w2v_model = Word2Vec.load(\"greek_word2vec.model\")"
   ]
  },
  {
   "cell_type": "code",
   "execution_count": 109,
   "id": "affc2ff4-628f-471a-99ea-071ce7b7b7bf",
   "metadata": {},
   "outputs": [],
   "source": [
    "X_train, y_train, X_val, y_val, X_test, y_test = prepare_dataset(data_combined, w2v_model, chunk_size, 0.8, 0.1, 0.1)\n",
    "\n",
    "import pickle\n",
    "\n",
    "# Save datasets to a pickle file\n",
    "with open(f\"nn_datasets_{chunk_size}.pkl\", \"wb\") as f:\n",
    "    pickle.dump((X_train, y_train, X_val, y_val, X_test, y_test), f)"
   ]
  },
  {
   "cell_type": "code",
   "execution_count": 110,
   "id": "ce8ff78d-584a-4524-a93f-e01b43295097",
   "metadata": {},
   "outputs": [],
   "source": [
    "with open(f\"nn_datasets_{chunk_size}.pkl\", \"rb\") as f:\n",
    "    X_train, y_train, X_val, y_val, X_test, y_test = pickle.load(f)"
   ]
  },
  {
   "cell_type": "code",
   "execution_count": 111,
   "id": "6f223bb4-1643-4280-a901-c63e2f9ea1ba",
   "metadata": {},
   "outputs": [
    {
     "name": "stdout",
     "output_type": "stream",
     "text": [
      "Epoch 1/10\n",
      "25136/25136 [==============================] - 15s 606us/step - loss: 0.0891 - accuracy: 0.9667 - val_loss: 0.0305 - val_accuracy: 0.9894\n",
      "Epoch 2/10\n",
      "25136/25136 [==============================] - 16s 619us/step - loss: 0.0671 - accuracy: 0.9756 - val_loss: 0.0217 - val_accuracy: 0.9926\n",
      "Epoch 3/10\n",
      "25136/25136 [==============================] - 16s 621us/step - loss: 0.0610 - accuracy: 0.9776 - val_loss: 0.0248 - val_accuracy: 0.9930\n",
      "Epoch 4/10\n",
      "25136/25136 [==============================] - 16s 622us/step - loss: 0.0590 - accuracy: 0.9784 - val_loss: 0.0173 - val_accuracy: 0.9948\n",
      "Epoch 5/10\n",
      "25136/25136 [==============================] - 16s 624us/step - loss: 0.0556 - accuracy: 0.9800 - val_loss: 0.0168 - val_accuracy: 0.9956\n",
      "Epoch 6/10\n",
      "25136/25136 [==============================] - 16s 622us/step - loss: 0.0545 - accuracy: 0.9804 - val_loss: 0.0286 - val_accuracy: 0.9896\n",
      "Epoch 7/10\n",
      "25136/25136 [==============================] - 16s 633us/step - loss: 0.0542 - accuracy: 0.9805 - val_loss: 0.0210 - val_accuracy: 0.9933\n",
      "Epoch 8/10\n",
      "25136/25136 [==============================] - 16s 624us/step - loss: 0.0516 - accuracy: 0.9814 - val_loss: 0.0152 - val_accuracy: 0.9961\n",
      "Epoch 9/10\n",
      "25136/25136 [==============================] - 16s 622us/step - loss: 0.0500 - accuracy: 0.9819 - val_loss: 0.0291 - val_accuracy: 0.9893\n",
      "Epoch 10/10\n",
      "25136/25136 [==============================] - 16s 622us/step - loss: 0.0485 - accuracy: 0.9825 - val_loss: 0.0176 - val_accuracy: 0.9943\n",
      "3144/3144 [==============================] - 1s 290us/step - loss: 0.0187 - accuracy: 0.9935\n",
      "Test Accuracy: 0.99350780\n"
     ]
    }
   ],
   "source": [
    "input_dim = X_train.shape[1]\n",
    "model = create_nn(input_dim)\n",
    "\n",
    "history = model.fit(\n",
    "    X_train, y_train,\n",
    "    validation_data=(X_val, y_val),\n",
    "    epochs=10,\n",
    "    batch_size=32,\n",
    "    verbose=1\n",
    ")\n",
    "\n",
    "test_loss, test_accuracy = model.evaluate(X_test, y_test)\n",
    "print(f\"Test Accuracy: {test_accuracy:.8f}\")"
   ]
  },
  {
   "cell_type": "code",
   "execution_count": 112,
   "id": "0166c68a-0705-4800-a19c-76981d2fc243",
   "metadata": {},
   "outputs": [],
   "source": [
    "model.save_weights(f\"nn_model_weights_{chunk_size}.h5\")"
   ]
  },
  {
   "cell_type": "code",
   "execution_count": 36,
   "id": "4e4ed990-3e7c-46f4-89d2-9ba28204f827",
   "metadata": {},
   "outputs": [],
   "source": [
    "model = create_nn(input_dim)\n",
    "model.load_weights(f\"nn_model_weights_{chunk_size}.h5\")"
   ]
  },
  {
   "cell_type": "code",
   "execution_count": 113,
   "id": "0392f6d9-4655-4dc1-ab42-a359f7332bd5",
   "metadata": {},
   "outputs": [
    {
     "name": "stdout",
     "output_type": "stream",
     "text": [
      "83/83 [==============================] - 0s 296us/step\n",
      "103/103 [==============================] - 0s 265us/step\n",
      "69/69 [==============================] - 0s 251us/step\n",
      "524/524 [==============================] - 0s 260us/step\n",
      "315/315 [==============================] - 0s 270us/step\n",
      "125/125 [==============================] - 0s 289us/step\n",
      "54/54 [==============================] - 0s 302us/step\n",
      "64/64 [==============================] - 0s 268us/step\n",
      "192/192 [==============================] - 0s 272us/step\n",
      "43/43 [==============================] - 0s 297us/step\n",
      "\n",
      "Mean Predictions for Dubia Texts:\n",
      "Minos: 0.9811\n",
      "Theages: 0.9984\n",
      "Lovers: 0.9981\n",
      "Letters: 0.9456\n",
      "Alcibiades1: 0.9840\n",
      "Alcibiades2: 0.9273\n",
      "Definitions: 0.0004\n",
      "Hipparchus: 0.9300\n",
      "Epinomis: 0.9913\n",
      "Cleitophon: 0.9985\n"
     ]
    }
   ],
   "source": [
    "results = all_texts_testset(data_dubia, chunk_size, w2v_model)\n",
    "\n",
    "# Print the mean scores for each text\n",
    "print(\"\\nMean Predictions for Dubia Texts:\")\n",
    "for text_name, mean_score in results.items():\n",
    "    if mean_score is not None:\n",
    "        print(f\"{text_name}: {mean_score:.4f}\")\n",
    "    else:\n",
    "        print(f\"{text_name}: No valid chunks\")"
   ]
  },
  {
   "cell_type": "code",
   "execution_count": 114,
   "id": "1c9707f5-b1b7-4907-8a87-3f6b6e62e0a9",
   "metadata": {},
   "outputs": [],
   "source": [
    "results[\"Test Set\"] = test_accuracy\n",
    "tabs[chunk_size] = results"
   ]
  },
  {
   "cell_type": "code",
   "execution_count": 115,
   "id": "c1a6c655-9095-4bd4-a58d-0e86cb753e54",
   "metadata": {},
   "outputs": [
    {
     "name": "stdout",
     "output_type": "stream",
     "text": [
      "{50: {'Minos': 0.9037467, 'Theages': 0.95138687, 'Lovers': 0.9669575, 'Letters': 0.81322163, 'Alcibiades1': 0.9460928, 'Alcibiades2': 0.87739533, 'Definitions': 0.22079529, 'Hipparchus': 0.86184067, 'Epinomis': 0.85806566, 'Cleitophon': 0.89053386, 'Test Set': 0.9578686356544495}, 25: {'Minos': 0.82250017, 'Theages': 0.88815504, 'Lovers': 0.87979305, 'Letters': 0.7393676, 'Alcibiades1': 0.8885729, 'Alcibiades2': 0.802056, 'Definitions': 0.31760162, 'Hipparchus': 0.8285081, 'Epinomis': 0.7590754, 'Cleitophon': 0.81606627, 'Test Set': 0.913121223449707}, 100: {'Minos': 0.9363014, 'Theages': 0.98487705, 'Lovers': 0.9953097, 'Letters': 0.8490637, 'Alcibiades1': 0.9622661, 'Alcibiades2': 0.9188408, 'Definitions': 0.13273369, 'Hipparchus': 0.8922686, 'Epinomis': 0.87343794, 'Cleitophon': 0.9406886, 'Test Set': 0.9852348566055298}, 200: {'Minos': 0.98105466, 'Theages': 0.9984383, 'Lovers': 0.99805754, 'Letters': 0.9456431, 'Alcibiades1': 0.9840474, 'Alcibiades2': 0.9273165, 'Definitions': 0.00041045956, 'Hipparchus': 0.93004596, 'Epinomis': 0.99131376, 'Cleitophon': 0.998488, 'Test Set': 0.9935078024864197}}\n"
     ]
    }
   ],
   "source": [
    "print(tabs)"
   ]
  },
  {
   "cell_type": "code",
   "execution_count": 117,
   "id": "b7c986a6-38d1-4f19-ada1-f94721cf63ad",
   "metadata": {},
   "outputs": [],
   "source": [
    "with open(\"basic_nn_results.pkl\", \"wb\") as file:\n",
    "    pickle.dump(tabs, file)"
   ]
  },
  {
   "cell_type": "code",
   "execution_count": 118,
   "id": "ef28d9a8-704b-4cfc-ac4b-359ef61cbe42",
   "metadata": {},
   "outputs": [],
   "source": [
    "with open(\"basic_nn_results.pkl\", \"rb\") as file:\n",
    "    tabs = pickle.load(file)"
   ]
  },
  {
   "cell_type": "code",
   "execution_count": 125,
   "id": "07e732a3-abc1-419f-acc8-89e95e553659",
   "metadata": {},
   "outputs": [
    {
     "name": "stdout",
     "output_type": "stream",
     "text": [
      "               Minos   Theages    Lovers   Letters  Alcibiades1  Alcibiades2  \\\n",
      "Chunk Size                                                                     \n",
      "25          0.822500  0.888155  0.879793  0.739368     0.888573     0.802056   \n",
      "50          0.903747  0.951387  0.966958  0.813222     0.946093     0.877395   \n",
      "100         0.936301  0.984877  0.995310  0.849064     0.962266     0.918841   \n",
      "200         0.981055  0.998438  0.998058  0.945643     0.984047     0.927316   \n",
      "\n",
      "            Definitions  Hipparchus  Epinomis  Cleitophon  Test Set  \n",
      "Chunk Size                                                           \n",
      "25             0.317602    0.828508  0.759075    0.816066  0.913121  \n",
      "50             0.220795    0.861841  0.858066    0.890534  0.957869  \n",
      "100            0.132734    0.892269  0.873438    0.940689  0.985235  \n",
      "200            0.000410    0.930046  0.991314    0.998488  0.993508  \n"
     ]
    }
   ],
   "source": [
    "sorted_data = sorted(tabs.items(), key=lambda x: x[0])\n",
    "\n",
    "df = pd.DataFrame([\n",
    "    {\"Chunk Size\": chunk_size, **text_scores}\n",
    "    for chunk_size, text_scores in sorted_data\n",
    "])\n",
    "\n",
    "df.set_index(\"Chunk Size\", inplace=True)\n",
    "print(df)"
   ]
  },
  {
   "cell_type": "code",
   "execution_count": 130,
   "id": "ff24a45b-f5ef-4ba6-bcc5-e91ecbd2b02a",
   "metadata": {},
   "outputs": [
    {
     "data": {
      "image/png": "[encoded data removed]",
      "text/plain": [
       "<Figure size 1200x800 with 1 Axes>"
      ]
     },
     "metadata": {},
     "output_type": "display_data"
    }
   ],
   "source": [
    "# Convert dictionary to sorted list for easier processing\n",
    "sorted_data = sorted(tabs.items(), key=lambda x: x[0])\n",
    "chunk_sizes = [item[0] for item in sorted_data]\n",
    "text_scores = {text: [] for text in next(iter(tabs.values())).keys()}\n",
    "\n",
    "# Populate scores for each text\n",
    "for _, scores in sorted_data:\n",
    "    for text, score in scores.items():\n",
    "        text_scores[text].append(score)\n",
    "\n",
    "# Plot the results\n",
    "plt.figure(figsize=(12, 8))\n",
    "\n",
    "for text, scores in text_scores.items():\n",
    "    if text == \"Test Set\":\n",
    "        plt.plot(chunk_sizes, scores, marker='o', label=text, linewidth=3, linestyle='--', color='red')  # Bold red dashed line\n",
    "    else:\n",
    "        plt.plot(chunk_sizes, scores, marker='o', label=text)\n",
    "\n",
    "plt.title(\"Results Across Chunk Sizes\", fontsize=16)\n",
    "plt.xlabel(\"Chunk Size\", fontsize=14)\n",
    "plt.ylabel(\"Score\", fontsize=14)\n",
    "plt.legend(title=\"Texts\", bbox_to_anchor=(1.05, 1), loc=\"upper left\")\n",
    "plt.grid(True)\n",
    "plt.tight_layout()\n",
    "plt.show()"
   ]
  },
  {
   "cell_type": "markdown",
   "id": "e345e9ff-b1bb-42e2-8116-f133f3047d7b",
   "metadata": {},
   "source": [
    "## RNN LSTM -> NN Model"
   ]
  },
  {
   "cell_type": "code",
   "execution_count": 132,
   "id": "24d11725-1f52-4ced-b3cf-2a91986db927",
   "metadata": {},
   "outputs": [],
   "source": [
    "from sklearn.model_selection import train_test_split\n",
    "\n",
    "def prepare_lstm_datasets(data, chunk_size, w2v_model, train_ratio=0.8, val_ratio=0.1, test_ratio=0.1):\n",
    "    \"\"\"\n",
    "    Prepares datasets for an LSTM model by processing text into sequences of embeddings and splitting into train/val/test.\n",
    "    \"\"\"\n",
    "    X = []\n",
    "    y = []\n",
    "\n",
    "    for label, text in data:\n",
    "        words = text.split()\n",
    "        num_chunks = len(words) - chunk_size + 1\n",
    "        if num_chunks <= 0:\n",
    "            continue\n",
    "\n",
    "        # Generate sliding window chunks\n",
    "        chunks = [\n",
    "            words[i:i + chunk_size]\n",
    "            for i in range(1, num_chunks)\n",
    "        ]\n",
    "\n",
    "        # Convert each chunk into a sequence of embeddings\n",
    "        for chunk in chunks:\n",
    "            embeddings = [\n",
    "                w2v_model.wv[word] if word in w2v_model.wv else np.zeros(w2v_model.vector_size)\n",
    "                for word in chunk\n",
    "            ]\n",
    "            X.append(embeddings)\n",
    "            y.append(label)\n",
    "\n",
    "    X = np.array(X)\n",
    "    y = np.array(y)\n",
    "\n",
    "    # Split into train, val, and test sets\n",
    "    X_train, X_temp, y_train, y_temp = train_test_split(X, y, test_size=(val_ratio + test_ratio), random_state=42)\n",
    "    X_val, X_test, y_val, y_test = train_test_split(X_temp, y_temp, test_size=(test_ratio / (val_ratio + test_ratio)), random_state=42)\n",
    "\n",
    "    return X_train, y_train, X_val, y_val, X_test, y_test"
   ]
  },
  {
   "cell_type": "code",
   "execution_count": 133,
   "id": "3adaa756-439b-43f0-9234-1cb5e6fe3f29",
   "metadata": {},
   "outputs": [],
   "source": [
    "from random import sample\n",
    "\n",
    "def lstm_datasets_percentage(data, chunk_size, w2v_model, train_ratio=0.8, val_ratio=0.1, test_ratio=0.1, sample_ratio=0.1):\n",
    "    \"\"\"\n",
    "    Prepares datasets for an LSTM model by processing text into sequences of embeddings and splitting into train/val/test.\n",
    "    Samples a percentage of chunks from each text to reduce dataset size.\n",
    "    \"\"\"\n",
    "    X = []\n",
    "    y = []\n",
    "\n",
    "    for label, text in data:\n",
    "        words = text.split()\n",
    "        num_chunks = len(words) - chunk_size + 1\n",
    "        if num_chunks <= 0:\n",
    "            continue\n",
    "\n",
    "        # Generate sliding window chunks\n",
    "        chunks = [\n",
    "            words[i:i + chunk_size]\n",
    "            for i in range(num_chunks)\n",
    "        ]\n",
    "\n",
    "        # Sample a percentage of the chunks\n",
    "        sampled_chunks = sample(chunks, int(len(chunks) * sample_ratio))\n",
    "\n",
    "        # Convert each chunk into a sequence of embeddings\n",
    "        for chunk in sampled_chunks:\n",
    "            embeddings = [\n",
    "                w2v_model.wv[word] if word in w2v_model.wv else np.zeros(w2v_model.vector_size)\n",
    "                for word in chunk\n",
    "            ]\n",
    "            X.append(embeddings)\n",
    "            y.append(label)\n",
    "\n",
    "    X = np.array(X)\n",
    "    y = np.array(y)\n",
    "\n",
    "    # Split into train, val, and test sets\n",
    "    X_train, X_temp, y_train, y_temp = train_test_split(X, y, test_size=(val_ratio + test_ratio), random_state=42)\n",
    "    X_val, X_test, y_val, y_test = train_test_split(X_temp, y_temp, test_size=(test_ratio / (val_ratio + test_ratio)), random_state=42)\n",
    "\n",
    "    return X_train, y_train, X_val, y_val, X_test, y_test"
   ]
  },
  {
   "cell_type": "code",
   "execution_count": 134,
   "id": "0bb28c85-470a-450c-8beb-a4f6b195b6fa",
   "metadata": {},
   "outputs": [],
   "source": [
    "from tensorflow.keras.models import Sequential\n",
    "from tensorflow.keras.layers import LSTM, Dense, Dropout, Embedding, BatchNormalization\n",
    "from tensorflow.keras.optimizers import Adam\n",
    "\n",
    "def create_lstm(input_dim, embedding_dim):\n",
    "    \"\"\"\n",
    "    Creates a neural network with an LSTM layer to process sequential embeddings.\n",
    "    \"\"\"\n",
    "    model = Sequential([\n",
    "        LSTM(128, input_shape=(input_dim, embedding_dim), return_sequences=False),\n",
    "        BatchNormalization(),\n",
    "        Dropout(0.3),\n",
    "        Dense(128, activation='relu'),\n",
    "        BatchNormalization(),\n",
    "        Dropout(0.3),\n",
    "        Dense(1, activation='sigmoid')\n",
    "    ])\n",
    "    model.compile(optimizer=tf.keras.optimizers.Adam(learning_rate=0.001),\n",
    "                  loss='binary_crossentropy',\n",
    "                  metrics=['accuracy'])\n",
    "    return model"
   ]
  },
  {
   "cell_type": "code",
   "execution_count": 135,
   "id": "4f72f458-d757-40a0-8722-89201e67c804",
   "metadata": {},
   "outputs": [],
   "source": [
    "def all_texts_testset_lstm(data_dubia, chunk_size, w2v_model, model):\n",
    "    \"\"\"\n",
    "    Prepares and tests the LSTM model on all dubia texts, calculating mean predictions for each text.\n",
    "    \"\"\"\n",
    "    results = {}\n",
    "\n",
    "    for label, text in data_dubia:\n",
    "        if label != -1:\n",
    "            continue  # Process only texts with label -1\n",
    "\n",
    "        words = text.split()\n",
    "        \n",
    "        text_name = words[0]\n",
    "\n",
    "        text_body = \" \".join(words[1:])\n",
    "\n",
    "        # Generate sliding window chunks\n",
    "        num_chunks = len(text_body.split()) - chunk_size + 1\n",
    "        if num_chunks <= 0:\n",
    "            results[text_name] = None  # No valid chunks\n",
    "            continue\n",
    "\n",
    "        text_chunks = [\n",
    "            text_body.split()[i:i + chunk_size]\n",
    "            for i in range(1, num_chunks)\n",
    "        ]\n",
    "\n",
    "        # Convert chunks into sequences of embeddings\n",
    "        chunk_embeddings = [\n",
    "            [\n",
    "                w2v_model.wv[word] if word in w2v_model.wv else np.zeros(w2v_model.vector_size)\n",
    "                for word in chunk\n",
    "            ]\n",
    "            for chunk in text_chunks\n",
    "        ]\n",
    "\n",
    "        if not chunk_embeddings:\n",
    "            results[text_name] = None  # No valid embeddings\n",
    "            continue\n",
    "\n",
    "        # Convert to NumPy array\n",
    "        X_test = np.array(chunk_embeddings)\n",
    "\n",
    "        # Get predictions for the embeddings\n",
    "        predictions = model.predict(X_test, verbose=0)\n",
    "\n",
    "        # Calculate mean prediction for the text\n",
    "        mean_score = np.mean(predictions)\n",
    "        results[text_name] = mean_score\n",
    "\n",
    "    return results"
   ]
  },
  {
   "cell_type": "markdown",
   "id": "8c0b799b-a00a-467c-940e-ec29c550780a",
   "metadata": {},
   "source": [
    "## LSTM Implementation"
   ]
  },
  {
   "cell_type": "code",
   "execution_count": 160,
   "id": "6f99d2ad-58c1-4358-8ea0-b7477009a2c7",
   "metadata": {},
   "outputs": [],
   "source": [
    "chunk_size = 200\n",
    "percentage = 0.2"
   ]
  },
  {
   "cell_type": "code",
   "execution_count": 140,
   "id": "e5d1383d-e075-4df8-b610-910ee79ae400",
   "metadata": {},
   "outputs": [],
   "source": [
    "tabs = {}"
   ]
  },
  {
   "cell_type": "code",
   "execution_count": 21,
   "id": "772bc62a-f718-4b3e-9b5e-0eaa80b9bc0f",
   "metadata": {},
   "outputs": [],
   "source": [
    "X_train, y_train, X_val, y_val, X_test, y_test = prepare_lstm_datasets(data_combined, chunk_size, w2v_model, 0.8, 0.1, 0.1)"
   ]
  },
  {
   "cell_type": "code",
   "execution_count": 161,
   "id": "74c69137-8d2e-4cd0-8498-08c2e8003cac",
   "metadata": {},
   "outputs": [],
   "source": [
    "X_train, y_train, X_val, y_val, X_test, y_test = lstm_datasets_percentage(data_combined, chunk_size, w2v_model, 0.8, 0.1, 0.1, percentage)"
   ]
  },
  {
   "cell_type": "code",
   "execution_count": 154,
   "id": "91ae3636-8c30-4014-a6f1-dee82aced6e4",
   "metadata": {},
   "outputs": [],
   "source": [
    "import pickle\n",
    "\n",
    "# Save datasets to a pickle file\n",
    "with open(f\"lstm_datasets_{percentage}_{chunk_size}.pkl\", \"wb\") as f:\n",
    "    pickle.dump((X_train, y_train, X_val, y_val, X_test, y_test), f)"
   ]
  },
  {
   "cell_type": "code",
   "execution_count": 147,
   "id": "f2d8af6e-6bf1-4b11-97cc-b330d28e6828",
   "metadata": {},
   "outputs": [],
   "source": [
    "with open(f\"lstm_datasets_{percentage}_{chunk_size}.pkl\", \"rb\") as f:\n",
    "    X_train, y_train, X_val, y_val, X_test, y_test = pickle.load(f)"
   ]
  },
  {
   "cell_type": "code",
   "execution_count": 162,
   "id": "13ff1528-535f-4e0c-9895-39744e9c04f5",
   "metadata": {},
   "outputs": [
    {
     "name": "stderr",
     "output_type": "stream",
     "text": [
      "WARNING:absl:At this time, the v2.11+ optimizer `tf.keras.optimizers.Adam` runs slowly on M1/M2 Macs, please use the legacy Keras optimizer instead, located at `tf.keras.optimizers.legacy.Adam`.\n",
      "WARNING:absl:There is a known slowdown when using v2.11+ Keras optimizers on M1/M2 Macs. Falling back to the legacy Keras optimizer, i.e., `tf.keras.optimizers.legacy.Adam`.\n"
     ]
    },
    {
     "name": "stdout",
     "output_type": "stream",
     "text": [
      "Epoch 1/5\n",
      "5028/5028 [==============================] - 328s 65ms/step - loss: 0.0683 - accuracy: 0.9738 - val_loss: 0.0048 - val_accuracy: 0.9986\n",
      "Epoch 2/5\n",
      "5028/5028 [==============================] - 337s 67ms/step - loss: 0.0107 - accuracy: 0.9972 - val_loss: 0.0029 - val_accuracy: 0.9989\n",
      "Epoch 3/5\n",
      "5028/5028 [==============================] - 342s 68ms/step - loss: 0.0075 - accuracy: 0.9980 - val_loss: 5.1719e-04 - val_accuracy: 0.9999\n",
      "Epoch 4/5\n",
      "5028/5028 [==============================] - 343s 68ms/step - loss: 0.0055 - accuracy: 0.9986 - val_loss: 0.0010 - val_accuracy: 0.9997\n",
      "Epoch 5/5\n",
      "5028/5028 [==============================] - 345s 69ms/step - loss: 0.0044 - accuracy: 0.9990 - val_loss: 6.1079e-05 - val_accuracy: 1.0000\n",
      "629/629 [==============================] - 13s 21ms/step - loss: 4.1210e-04 - accuracy: 0.9999\n",
      "Test Accuracy: 1.00\n"
     ]
    }
   ],
   "source": [
    "model = create_lstm(chunk_size, w2v_model.vector_size)\n",
    "\n",
    "history = model.fit(\n",
    "    X_train, y_train,\n",
    "    validation_data=(X_val, y_val),\n",
    "    epochs=5,\n",
    "    batch_size=32,\n",
    "    verbose=1\n",
    ")\n",
    "\n",
    "# Evaluate the model on the test set\n",
    "test_loss, test_accuracy = model.evaluate(X_test, y_test, verbose=1)\n",
    "print(f\"Test Accuracy: {test_accuracy:.2f}\")"
   ]
  },
  {
   "cell_type": "code",
   "execution_count": 163,
   "id": "239857ad-4b87-4219-80a5-89dc44ea8b0f",
   "metadata": {},
   "outputs": [],
   "source": [
    "model.save_weights(f\"lstm_model_weights_{percentage}_{chunk_size}.h5\")"
   ]
  },
  {
   "cell_type": "code",
   "execution_count": 164,
   "id": "90c482bd-a715-40a5-9591-e9f6d11c0eab",
   "metadata": {},
   "outputs": [
    {
     "name": "stderr",
     "output_type": "stream",
     "text": [
      "WARNING:absl:At this time, the v2.11+ optimizer `tf.keras.optimizers.Adam` runs slowly on M1/M2 Macs, please use the legacy Keras optimizer instead, located at `tf.keras.optimizers.legacy.Adam`.\n",
      "WARNING:absl:There is a known slowdown when using v2.11+ Keras optimizers on M1/M2 Macs. Falling back to the legacy Keras optimizer, i.e., `tf.keras.optimizers.legacy.Adam`.\n"
     ]
    }
   ],
   "source": [
    "model = create_lstm(chunk_size, w2v_model.vector_size)\n",
    "\n",
    "model.load_weights(f\"lstm_model_weights_{percentage}_{chunk_size}.h5\")"
   ]
  },
  {
   "cell_type": "code",
   "execution_count": 165,
   "id": "428d0564-ebc3-4d18-b9f2-b56b0aece94f",
   "metadata": {},
   "outputs": [
    {
     "name": "stdout",
     "output_type": "stream",
     "text": [
      "\n",
      "Mean Predictions for Dubia Texts:\n",
      "Minos: 0.9363\n",
      "Theages: 0.9247\n",
      "Lovers: 1.0000\n",
      "Letters: 0.8333\n",
      "Alcibiades1: 0.9671\n",
      "Alcibiades2: 0.8257\n",
      "Definitions: 0.0276\n",
      "Hipparchus: 0.8693\n",
      "Epinomis: 0.9848\n",
      "Cleitophon: 0.9982\n"
     ]
    }
   ],
   "source": [
    "results = all_texts_testset_lstm(data_dubia, chunk_size, w2v_model, model)\n",
    "\n",
    "# Print the results\n",
    "print(\"\\nMean Predictions for Dubia Texts:\")\n",
    "for text_name, mean_score in results.items():\n",
    "    if mean_score is not None:\n",
    "        print(f\"{text_name}: {mean_score:.4f}\")\n",
    "    else:\n",
    "        print(f\"{text_name}: No valid chunks\")"
   ]
  },
  {
   "cell_type": "code",
   "execution_count": 166,
   "id": "008043cc-d28c-44c7-b5b0-ae79b78197fe",
   "metadata": {},
   "outputs": [],
   "source": [
    "results[\"Test Set\"] = test_accuracy\n",
    "tabs[chunk_size] = results"
   ]
  },
  {
   "cell_type": "code",
   "execution_count": 167,
   "id": "3665b495-e661-4eaf-ac01-e6e36451dae2",
   "metadata": {},
   "outputs": [
    {
     "name": "stdout",
     "output_type": "stream",
     "text": [
      "{25: {'Minos': 0.8798726, 'Theages': 0.91493535, 'Lovers': 0.8954538, 'Letters': 0.698444, 'Alcibiades1': 0.8952169, 'Alcibiades2': 0.8004452, 'Definitions': 0.26378095, 'Hipparchus': 0.85392565, 'Epinomis': 0.8816897, 'Cleitophon': 0.8593757, 'Test Set': 0.9700648784637451}, 50: {'Minos': 0.8926651, 'Theages': 0.91402596, 'Lovers': 0.9413341, 'Letters': 0.73613197, 'Alcibiades1': 0.93100166, 'Alcibiades2': 0.81998116, 'Definitions': 0.164125, 'Hipparchus': 0.88688457, 'Epinomis': 0.9561208, 'Cleitophon': 0.8624312, 'Test Set': 0.9700648784637451}, 100: {'Minos': 0.8660749, 'Theages': 0.9266958, 'Lovers': 0.9930606, 'Letters': 0.75636417, 'Alcibiades1': 0.9445773, 'Alcibiades2': 0.7809172, 'Definitions': 0.10858685, 'Hipparchus': 0.8244373, 'Epinomis': 0.95077384, 'Cleitophon': 0.88714194, 'Test Set': 0.9991108179092407}, 200: {'Minos': 0.93628126, 'Theages': 0.9247354, 'Lovers': 0.9999931, 'Letters': 0.8332793, 'Alcibiades1': 0.9670633, 'Alcibiades2': 0.8257046, 'Definitions': 0.027609626, 'Hipparchus': 0.86926216, 'Epinomis': 0.9848475, 'Cleitophon': 0.9981905, 'Test Set': 0.9999005198478699}}\n"
     ]
    }
   ],
   "source": [
    "print(tabs)"
   ]
  },
  {
   "cell_type": "code",
   "execution_count": 168,
   "id": "c947765c-effa-42eb-9431-147b0c4a7fdb",
   "metadata": {},
   "outputs": [],
   "source": [
    "with open(\"lstm_results.pkl\", \"wb\") as file:\n",
    "    pickle.dump(tabs, file)"
   ]
  },
  {
   "cell_type": "code",
   "execution_count": 169,
   "id": "c3fca1e3-b15c-4b14-af90-74ec3fc4cfb8",
   "metadata": {},
   "outputs": [],
   "source": [
    "with open(\"basic_nn_results.pkl\", \"rb\") as file:\n",
    "    tabs = pickle.load(file)"
   ]
  },
  {
   "cell_type": "code",
   "execution_count": 170,
   "id": "8f1a70a6-2bf8-414f-9abd-e0b102ebefbd",
   "metadata": {},
   "outputs": [
    {
     "name": "stdout",
     "output_type": "stream",
     "text": [
      "               Minos   Theages    Lovers   Letters  Alcibiades1  Alcibiades2  \\\n",
      "Chunk Size                                                                     \n",
      "25          0.822500  0.888155  0.879793  0.739368     0.888573     0.802056   \n",
      "50          0.903747  0.951387  0.966958  0.813222     0.946093     0.877395   \n",
      "100         0.936301  0.984877  0.995310  0.849064     0.962266     0.918841   \n",
      "200         0.981055  0.998438  0.998058  0.945643     0.984047     0.927316   \n",
      "\n",
      "            Definitions  Hipparchus  Epinomis  Cleitophon  Test Set  \n",
      "Chunk Size                                                           \n",
      "25             0.317602    0.828508  0.759075    0.816066  0.913121  \n",
      "50             0.220795    0.861841  0.858066    0.890534  0.957869  \n",
      "100            0.132734    0.892269  0.873438    0.940689  0.985235  \n",
      "200            0.000410    0.930046  0.991314    0.998488  0.993508  \n"
     ]
    }
   ],
   "source": [
    "sorted_data = sorted(tabs.items(), key=lambda x: x[0])\n",
    "\n",
    "df = pd.DataFrame([\n",
    "    {\"Chunk Size\": chunk_size, **text_scores}\n",
    "    for chunk_size, text_scores in sorted_data\n",
    "])\n",
    "\n",
    "df.set_index(\"Chunk Size\", inplace=True)\n",
    "print(df)"
   ]
  },
  {
   "cell_type": "code",
   "execution_count": 171,
   "id": "e481f5df-257c-4a13-a633-dbdca3313a42",
   "metadata": {},
   "outputs": [
    {
     "data": {
      "image/png": "[encoded data removed]",
      "text/plain": [
       "<Figure size 1200x800 with 1 Axes>"
      ]
     },
     "metadata": {},
     "output_type": "display_data"
    }
   ],
   "source": [
    "# Convert dictionary to sorted list for easier processing\n",
    "sorted_data = sorted(tabs.items(), key=lambda x: x[0])\n",
    "chunk_sizes = [item[0] for item in sorted_data]\n",
    "text_scores = {text: [] for text in next(iter(tabs.values())).keys()}\n",
    "\n",
    "# Populate scores for each text\n",
    "for _, scores in sorted_data:\n",
    "    for text, score in scores.items():\n",
    "        text_scores[text].append(score)\n",
    "\n",
    "# Plot the results\n",
    "plt.figure(figsize=(12, 8))\n",
    "\n",
    "for text, scores in text_scores.items():\n",
    "    if text == \"Test Set\":\n",
    "        plt.plot(chunk_sizes, scores, marker='o', label=text, linewidth=3, linestyle='--', color='red')  # Bold red dashed line\n",
    "    else:\n",
    "        plt.plot(chunk_sizes, scores, marker='o', label=text)\n",
    "\n",
    "plt.title(\"Results Across Chunk Sizes\", fontsize=16)\n",
    "plt.xlabel(\"Chunk Size\", fontsize=14)\n",
    "plt.ylabel(\"Score\", fontsize=14)\n",
    "plt.legend(title=\"Texts\", bbox_to_anchor=(1.05, 1), loc=\"upper left\")\n",
    "plt.grid(True)\n",
    "plt.tight_layout()\n",
    "plt.show()"
   ]
  },
  {
   "cell_type": "markdown",
   "id": "64982a07-7338-42e2-9233-aeb8720a0e52",
   "metadata": {},
   "source": [
    "## Transformer"
   ]
  },
  {
   "cell_type": "code",
   "execution_count": 66,
   "id": "48ba914f-a9e6-49e2-8337-1cff73a9ac37",
   "metadata": {},
   "outputs": [],
   "source": [
    "import tensorflow as tf\n",
    "from tensorflow.keras.layers import Dense, Dropout, LayerNormalization, Input, MultiHeadAttention\n",
    "from tensorflow.keras.models import Model\n",
    "\n",
    "def positional_encoding(max_position, embedding_dim):\n",
    "    \"\"\"\n",
    "    Generates positional encoding for sequences.\n",
    "    \"\"\"\n",
    "    positions = np.arange(max_position)[:, np.newaxis]\n",
    "    dims = np.arange(embedding_dim)[np.newaxis, :]\n",
    "\n",
    "    angles = positions / np.power(10000, (2 * (dims // 2)) / embedding_dim)\n",
    "    encoding = np.zeros_like(angles)\n",
    "    encoding[:, 0::2] = np.sin(angles[:, 0::2])\n",
    "    encoding[:, 1::2] = np.cos(angles[:, 1::2])\n",
    "    return tf.cast(encoding, dtype=tf.float32)\n",
    "\n",
    "def transformer_encoder(input_dim, embedding_dim, num_heads, ff_dim, dropout_rate=0.1):\n",
    "    \"\"\"\n",
    "    Builds a Transformer encoder block.\n",
    "    \"\"\"\n",
    "    inputs = Input(shape=(input_dim, embedding_dim))\n",
    "    attention = MultiHeadAttention(num_heads=num_heads, key_dim=embedding_dim)(inputs, inputs)\n",
    "    attention = Dropout(dropout_rate)(attention)\n",
    "    attention = LayerNormalization(epsilon=1e-6)(attention + inputs)\n",
    "\n",
    "    ff = Dense(ff_dim, activation=\"relu\")(attention)\n",
    "    ff = Dropout(dropout_rate)(ff)\n",
    "    ff = Dense(embedding_dim)(ff)\n",
    "    ff = LayerNormalization(epsilon=1e-6)(ff + attention)\n",
    "\n",
    "    return Model(inputs, ff, name=\"TransformerEncoder\")\n",
    "\n",
    "def create_transformer(input_dim, embedding_dim, num_heads, ff_dim, num_classes=1, dropout_rate=0.1):\n",
    "    \"\"\"\n",
    "    Builds a Transformer-based classification model.\n",
    "    \"\"\"\n",
    "    inputs = Input(shape=(input_dim, embedding_dim))\n",
    "\n",
    "    # Add positional encoding\n",
    "    position_encodings = positional_encoding(input_dim, embedding_dim)\n",
    "    x = inputs + position_encodings\n",
    "\n",
    "    # Transformer encoder block\n",
    "    x = transformer_encoder(input_dim, embedding_dim, num_heads, ff_dim, dropout_rate)(x)\n",
    "\n",
    "    # Pooling (reduce sequence to a single vector)\n",
    "    x = tf.reduce_mean(x, axis=1)\n",
    "\n",
    "    # Classification head\n",
    "    x = Dense(128, activation=\"relu\")(x)\n",
    "    x = Dropout(dropout_rate)(x)\n",
    "    outputs = Dense(num_classes, activation=\"sigmoid\")(x)\n",
    "\n",
    "    return Model(inputs, outputs, name=\"TransformerModel\")"
   ]
  },
  {
   "cell_type": "code",
   "execution_count": 78,
   "id": "ba2ee4b0-2fd8-40d9-87cd-9dbf1eeb215f",
   "metadata": {},
   "outputs": [],
   "source": [
    "def all_texts_testset_transformer(data_dubia, chunk_size, w2v_model, model):\n",
    "    \"\"\"\n",
    "    Prepares and tests the transformer model on all dubia texts, calculating mean predictions for each text.\n",
    "    \"\"\"\n",
    "    results = {}\n",
    "\n",
    "    for label, text in data_dubia:\n",
    "        if label != -1:\n",
    "            continue  # Process only texts with label -1\n",
    "\n",
    "        words = text.split()\n",
    "        \n",
    "        text_name = words[0]\n",
    "\n",
    "        text_body = \" \".join(words[1:])\n",
    "\n",
    "        # Generate sliding window chunks\n",
    "        num_chunks = len(text_body.split()) - chunk_size + 1\n",
    "        if num_chunks <= 0:\n",
    "            results[text_name] = None  # No valid chunks\n",
    "            continue\n",
    "\n",
    "        text_chunks = [\n",
    "            text_body.split()[i:i + chunk_size]\n",
    "            for i in range(1, num_chunks)\n",
    "        ]\n",
    "\n",
    "        # Convert chunks into sequences of embeddings\n",
    "        chunk_embeddings = [\n",
    "            [\n",
    "                w2v_model.wv[word] if word in w2v_model.wv else np.zeros(w2v_model.vector_size)\n",
    "                for word in chunk\n",
    "            ]\n",
    "            for chunk in text_chunks\n",
    "        ]\n",
    "\n",
    "        if not chunk_embeddings:\n",
    "            results[text_name] = None  # No valid embeddings\n",
    "            continue\n",
    "\n",
    "        # Convert to NumPy array\n",
    "        X_test = np.array(chunk_embeddings)\n",
    "\n",
    "        # Get predictions for the embeddings\n",
    "        predictions = model.predict(X_test, verbose=0)\n",
    "\n",
    "        # Calculate mean prediction for the text\n",
    "        mean_score = np.mean(predictions)\n",
    "        results[text_name] = mean_score\n",
    "\n",
    "    return results"
   ]
  },
  {
   "cell_type": "markdown",
   "id": "33d419ae-fc2f-4c0a-bb78-4f1b4ccc3274",
   "metadata": {},
   "source": [
    "## Transformer Implementation"
   ]
  },
  {
   "cell_type": "code",
   "execution_count": 77,
   "id": "3bc5200d-01b5-4196-a13f-bfdc192a60fd",
   "metadata": {},
   "outputs": [],
   "source": [
    "chunk_size = 100\n",
    "percentage = 0.2\n",
    "X_train, y_train, X_val, y_val, X_test, y_test = lstm_datasets_percentage(data_combined, chunk_size, w2v_model, 0.8, 0.1, 0.1,percentage)"
   ]
  },
  {
   "cell_type": "code",
   "execution_count": 79,
   "id": "d302d47c-da4f-43cb-9ee0-801d75b542cf",
   "metadata": {},
   "outputs": [],
   "source": [
    "with open(f\"transformer_datasets_{percentage}_{chunk_size}.pkl\", \"wb\") as f:\n",
    "    pickle.dump((X_train, y_train, X_val, y_val, X_test, y_test), f)"
   ]
  },
  {
   "cell_type": "code",
   "execution_count": 80,
   "id": "1661f997-4049-4240-877c-6bcf55125ea1",
   "metadata": {},
   "outputs": [],
   "source": [
    "with open(f\"transformer_datasets_{percentage}_{chunk_size}.pkl\", \"rb\") as f:\n",
    "    X_train, y_train, X_val, y_val, X_test, y_test = pickle.load(f)"
   ]
  },
  {
   "cell_type": "code",
   "execution_count": 81,
   "id": "cb646e9c-b3ea-4ae8-8646-039179ee220d",
   "metadata": {},
   "outputs": [
    {
     "name": "stdout",
     "output_type": "stream",
     "text": [
      "5061/5061 [==============================] - 280s 55ms/step - loss: 0.0800 - accuracy: 0.9691 - val_loss: 0.0791 - val_accuracy: 0.9698\n",
      "633/633 [==============================] - 13s 21ms/step - loss: 0.0803 - accuracy: 0.9691\n",
      "Test Accuracy: 0.97\n"
     ]
    }
   ],
   "source": [
    "embedding_dim = w2v_model.vector_size\n",
    "model = create_transformer(\n",
    "    input_dim=chunk_size,\n",
    "    embedding_dim=embedding_dim,\n",
    "    num_heads=4,\n",
    "    ff_dim=128,\n",
    "    num_classes=1,\n",
    "    dropout_rate=0.1\n",
    ")\n",
    "\n",
    "model.compile(\n",
    "    optimizer=tf.keras.optimizers.Adam(learning_rate=0.001),\n",
    "    loss=\"binary_crossentropy\",\n",
    "    metrics=[\"accuracy\"]\n",
    ")\n",
    "\n",
    "# Train the model\n",
    "history = model.fit(\n",
    "    X_train, y_train,\n",
    "    validation_data=(X_val, y_val),\n",
    "    epochs=1,\n",
    "    batch_size=32,\n",
    "    verbose=1\n",
    ")\n",
    "\n",
    "# Evaluate the model\n",
    "test_loss, test_accuracy = model.evaluate(X_test, y_test)\n",
    "print(f\"Test Accuracy: {test_accuracy:.2f}\")"
   ]
  },
  {
   "cell_type": "code",
   "execution_count": 82,
   "id": "bde558b8-c51d-40cd-8abe-0e2f20279de5",
   "metadata": {},
   "outputs": [
    {
     "name": "stdout",
     "output_type": "stream",
     "text": [
      "\n",
      "Mean Predictions for Dubia Texts:\n",
      "Minos: 0.7562\n",
      "Theages: 0.8262\n",
      "Lovers: 0.8636\n",
      "Letters: 0.5299\n",
      "Alcibiades1: 0.8932\n",
      "Alcibiades2: 0.6863\n",
      "Definitions: 0.0004\n",
      "Hipparchus: 0.8368\n",
      "Epinomis: 0.8320\n",
      "Cleitophon: 0.7033\n"
     ]
    }
   ],
   "source": [
    "results = all_texts_testset_lstm(data_dubia, chunk_size, w2v_model, model)\n",
    "\n",
    "# Print the results\n",
    "print(\"\\nMean Predictions for Dubia Texts:\")\n",
    "for text_name, mean_score in results.items():\n",
    "    if mean_score is not None:\n",
    "        print(f\"{text_name}: {mean_score:.4f}\")\n",
    "    else:\n",
    "        print(f\"{text_name}: No valid chunks\")"
   ]
  }
 ],
 "metadata": {
  "kernelspec": {
   "display_name": "Python 3 (ipykernel)",
   "language": "python",
   "name": "python3"
  },
  "language_info": {
   "codemirror_mode": {
    "name": "ipython",
    "version": 3
   },
   "file_extension": ".py",
   "mimetype": "text/x-python",
   "name": "python",
   "nbconvert_exporter": "python",
   "pygments_lexer": "ipython3",
   "version": "3.8.10"
  }
 },
 "nbformat": 4,
 "nbformat_minor": 5
}
