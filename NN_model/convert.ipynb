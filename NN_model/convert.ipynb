{
 "cells": [
  {
   "cell_type": "code",
   "execution_count": 6,
   "id": "220989ad-7dca-43ab-8848-5b8c18f65eef",
   "metadata": {},
   "outputs": [],
   "source": [
    "import os\n",
    "import re\n",
    "from unidecode import unidecode\n",
    "\n",
    "def processFile(filename, dataType, outputFile, label):\n",
    "    \"\"\"\n",
    "    Processes a single file, cleans the text, and writes it to the output file with a label and filename.\n",
    "    \"\"\"\n",
    "    input_path = os.path.join(\"data_raw\", dataType, filename)\n",
    "    with open(input_path, 'r', encoding='utf-8') as input_file:\n",
    "        clean = []\n",
    "\n",
    "        for line in input_file:\n",
    "            # Clean and normalize the text\n",
    "            line = re.sub(r'[A-Za-z]+', '', line)\n",
    "            line = unidecode(line)\n",
    "            line = line.strip().replace('-', ' ')\n",
    "            line = re.sub(r'[^A-Za-z ]+', '', line)\n",
    "            line = re.sub(' +', ' ', line)\n",
    "\n",
    "            words = line.split()\n",
    "\n",
    "            # Remove words in all caps (labels)\n",
    "            for word in words:\n",
    "                if len(word) > 1 and word[1].isupper():\n",
    "                    continue\n",
    "                if len(word) > 2 and word[2].isupper():\n",
    "                    continue\n",
    "                \n",
    "                word = word.lower()\n",
    "                forbidden = []\n",
    "                if word not in forbidden:\n",
    "                    clean.append(word)\n",
    "\n",
    "    # Add label, filename, and cleaned text\n",
    "    filename_clean = filename[:-4].replace(' ', '')\n",
    "    formatted_text = f\"{label} {filename_clean} \" + ' '.join(clean)\n",
    "\n",
    "    # Write to the output file\n",
    "    with open(outputFile, 'a', encoding='utf-8') as output_file:\n",
    "        output_file.write(formatted_text + '\\n')\n",
    "\n",
    "def clean(dataType, outputFile, label=None):\n",
    "    \"\"\"\n",
    "    Processes all files for a given data type and writes them to a single output file.\n",
    "    \"\"\"\n",
    "    for filename in os.listdir(os.path.join(\"data_raw\", dataType)):\n",
    "        filepath = os.path.join(\"data_raw\", dataType, filename)\n",
    "        if os.path.isfile(filepath):\n",
    "            processFile(filename, dataType, outputFile, label if label is not None else 0)"
   ]
  },
  {
   "cell_type": "code",
   "execution_count": 7,
   "id": "70baf199-a5a2-4111-b34f-4960456ab830",
   "metadata": {},
   "outputs": [],
   "source": [
    "combinedFile = \"data_clean/combined.txt\"\n",
    "dubiaFile = \"data_clean/dubia.txt\"\n",
    "\n",
    "if not os.path.exists(\"data_clean\"):\n",
    "    os.mkdir(\"data_clean\")\n",
    "\n",
    "open(combinedFile, 'w').close()\n",
    "open(dubiaFile, 'w').close()\n",
    "\n",
    "clean(\"plato\", combinedFile, label=1)\n",
    "clean(\"notplato\", combinedFile, label=0)\n",
    "clean(\"dubia\", dubiaFile, label=-1)"
   ]
  }
 ],
 "metadata": {
  "kernelspec": {
   "display_name": "Python 3 (ipykernel)",
   "language": "python",
   "name": "python3"
  },
  "language_info": {
   "codemirror_mode": {
    "name": "ipython",
    "version": 3
   },
   "file_extension": ".py",
   "mimetype": "text/x-python",
   "name": "python",
   "nbconvert_exporter": "python",
   "pygments_lexer": "ipython3",
   "version": "3.8.10"
  }
 },
 "nbformat": 4,
 "nbformat_minor": 5
}
